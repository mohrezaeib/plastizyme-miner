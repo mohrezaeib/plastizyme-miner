{
 "cells": [
  {
   "cell_type": "code",
   "execution_count": 5,
   "metadata": {},
   "outputs": [],
   "source": [
    "from Bio import SeqIO\n",
    "\n",
    "def rename_sequences(input_file, label_name, label_value, output_file):\n",
    "    with open(input_file, \"r\") as f:\n",
    "        records = list(SeqIO.parse(f, \"fasta\"))\n",
    "\n",
    "    for idx, record in enumerate(records, 1):\n",
    "        new_header = f\"{label_name}_{idx:02d}|{label_value}\"\n",
    "        record.id = new_header\n",
    "        record.description = \"\"\n",
    "\n",
    "    with open(output_file, \"a\") as f:  # Use 'a' mode to append instead of 'w'\n",
    "        SeqIO.write(records, f, \"fasta\")\n",
    "        \n",
    "        \n"
   ]
  },
  {
   "cell_type": "code",
   "execution_count": 8,
   "metadata": {},
   "outputs": [],
   "source": [
    "rename_sequences(\"negative-pet.fasta\",\"negative-pet\",0, \"all.fasta\" )\n",
    "rename_sequences(\"synthetic-pet-seq.fasta\",\"synthetic-pet\",1, \"all.fasta\" )\n",
    "rename_sequences(\"real-pet-seq.fasta\",\"real-pet\",1, \"all.fasta\" )"
   ]
  },
  {
   "cell_type": "code",
   "execution_count": 20,
   "metadata": {},
   "outputs": [],
   "source": [
    "from Bio import SeqIO\n",
    "\n",
    "def count_sequences(input_file):\n",
    "    group_counts = {}\n",
    "    with open(input_file, \"r\") as f:\n",
    "        records = list(SeqIO.parse(f, \"fasta\"))\n",
    "\n",
    "    for record in records:\n",
    "        group_label = record.id.split(\"|\")[0]\n",
    "        group_name = group_label.split(\"_\")[0]\n",
    "        label = int(group_label.split(\"_\")[1])\n",
    "\n",
    "        if group_name in group_counts:\n",
    "            group_counts[group_name] = group_counts[group_name] + 1\n",
    "        else:\n",
    "            group_counts[group_name] = 1\n",
    "\n",
    "    return group_counts\n"
   ]
  },
  {
   "cell_type": "code",
   "execution_count": 22,
   "metadata": {},
   "outputs": [
    {
     "name": "stdout",
     "output_type": "stream",
     "text": [
      "{'negative-pet': 130, 'synthetic-pet': 100, 'real-pet': 104}\n"
     ]
    }
   ],
   "source": [
    "input_file = \"all.fasta\"  # Replace with the path to your input fasta file\n",
    "\n",
    "group_counts = count_sequences(input_file)\n",
    "print(group_counts)"
   ]
  },
  {
   "cell_type": "code",
   "execution_count": 23,
   "metadata": {},
   "outputs": [],
   "source": [
    "from Bio import SeqIO\n",
    "import random\n",
    "\n",
    "def shuffle_and_split_fasta(input_file, train_file, test_file, split_ratio=0.8):\n",
    "    # Read the input FASTA file\n",
    "    records = list(SeqIO.parse(input_file, \"fasta\"))\n",
    "\n",
    "    # Shuffle the records randomly\n",
    "    random.shuffle(records)\n",
    "\n",
    "    # Calculate the split index\n",
    "    split_index = int(len(records) * split_ratio)\n",
    "\n",
    "    # Split into train and test sets\n",
    "    train_records = records[:split_index]\n",
    "    test_records = records[split_index:]\n",
    "\n",
    "    # Write the train set to a new FASTA file\n",
    "    with open(train_file, \"w\") as train_handle:\n",
    "        SeqIO.write(train_records, train_handle, \"fasta\")\n",
    "\n",
    "    # Write the test set to a new FASTA file\n",
    "    with open(test_file, \"w\") as test_handle:\n",
    "        SeqIO.write(test_records, test_handle, \"fasta\")\n",
    "\n"
   ]
  },
  {
   "cell_type": "code",
   "execution_count": 24,
   "metadata": {},
   "outputs": [],
   "source": [
    "input_file = \"all.fasta\"  # Replace with the path to your input FASTA file\n",
    "train_file = \"train.fasta\"\n",
    "test_file = \"test.fasta\"\n",
    "split_ratio = 0.8  # 80% for training, 20% for testing\n",
    "\n",
    "shuffle_and_split_fasta(input_file, train_file, test_file, split_ratio)"
   ]
  },
  {
   "cell_type": "code",
   "execution_count": 25,
   "metadata": {},
   "outputs": [
    {
     "name": "stdout",
     "output_type": "stream",
     "text": [
      " train: {'negative-pet': 101, 'synthetic-pet': 84, 'real-pet': 82}\n",
      " test: {'real-pet': 22, 'negative-pet': 29, 'synthetic-pet': 16}\n",
      " all: {'negative-pet': 130, 'synthetic-pet': 100, 'real-pet': 104}\n"
     ]
    }
   ],
   "source": [
    "print( f\" train: {count_sequences(train_file)}\")\n",
    "print( f\" test: {count_sequences(test_file)}\")\n",
    "print( f\" all: {count_sequences(input_file)}\")\n",
    "\n"
   ]
  }
 ],
 "metadata": {
  "kernelspec": {
   "display_name": "tf1.14",
   "language": "python",
   "name": "python3"
  },
  "language_info": {
   "codemirror_mode": {
    "name": "ipython",
    "version": 3
   },
   "file_extension": ".py",
   "mimetype": "text/x-python",
   "name": "python",
   "nbconvert_exporter": "python",
   "pygments_lexer": "ipython3",
   "version": "3.7.7"
  },
  "orig_nbformat": 4,
  "vscode": {
   "interpreter": {
    "hash": "20b1e5ec344bee7c0aac9d6e6ab6162f5e1d002bed37759a4820a86b7c890098"
   }
  }
 },
 "nbformat": 4,
 "nbformat_minor": 2
}
